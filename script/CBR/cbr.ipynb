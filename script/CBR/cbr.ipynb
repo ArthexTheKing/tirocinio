{
 "cells": [
  {
   "cell_type": "code",
   "execution_count": 153,
   "metadata": {},
   "outputs": [],
   "source": [
    "import pandas as pd\n",
    "import numpy as np\n",
    "\n",
    "from sklearn.cluster import KMeans\n",
    "\n",
    "from sklearn.metrics import accuracy_score, precision_score\n",
    "from sklearn.model_selection import train_test_split"
   ]
  },
  {
   "cell_type": "code",
   "execution_count": 154,
   "metadata": {},
   "outputs": [],
   "source": [
    "class CaseBasedReasoning:\n",
    "\n",
    "    def __init__(self, dataset: pd.DataFrame):\n",
    "\n",
    "        # Salvo il Dataframe\n",
    "        self.dataset = dataset\n",
    "\n",
    "        # Creo e addestro il modello K = 6 scelto da un Silhouette Score\n",
    "        self.model = KMeans(n_clusters=6, n_init='auto', random_state=46)\n",
    "\n",
    "    def fit(self, X_train: pd.DataFrame):\n",
    "\n",
    "        # Addestro il modello e metto le etichette nel dataset di train\n",
    "        self.X_train = X_train\n",
    "        self.X_train['cluster'] = self.model.fit_predict(self.X_train.values)\n",
    "\n",
    "    def predict(self, X_test: pd.DataFrame):\n",
    "\n",
    "        # Prevedo il cluster di appartenenza \n",
    "        predizioni_cluster = self.model.predict(X_test.values)\n",
    "        X_test['cluster'] = predizioni_cluster\n",
    "\n",
    "        # Valuto l'azione migliore per ogni cluster\n",
    "        azioni_predette_per_cluster = []\n",
    "        for cluster in range(6):\n",
    "            indici_cluster = self.X_train.loc[self.X_train['cluster'] == cluster].index.to_list()\n",
    "\n",
    "            # Prendo solo gli indici che hanno bmi negativo\n",
    "            indici_bmi_negativi = []\n",
    "\n",
    "            for indice in indici_cluster:\n",
    "                bmi_caso = self.dataset.iloc[indice, -2]\n",
    "                \n",
    "                if bmi_caso <= 0:\n",
    "                    indici_bmi_negativi.append(indice)\n",
    "            \n",
    "            # Calcolo l'azione\n",
    "            azione_predetta = round(self.dataset.iloc[indici_bmi_negativi, -1].mean())\n",
    "            azioni_predette_per_cluster.append(azione_predetta)\n",
    "\n",
    "        mappa_elementi = {indice: elemento for indice, elemento in zip(range(len(azioni_predette_per_cluster)), azioni_predette_per_cluster)}\n",
    "        X_test['y_predict'] = X_test['cluster'].map(mappa_elementi)\n",
    "\n",
    "        return X_test['y_predict']\n",
    "            \n",
    "    def evaluate(self):\n",
    "        w_match_gain, w_match_loss, w_miss_gain, w_miss_loss = 0, 0, 0, 0\n",
    "\n",
    "        for idx_caso, variazione_bmi, azione_predetta in self.y_predict:\n",
    "\n",
    "            azione_effettiva = self.dataset.iloc[int(idx_caso), -1]\n",
    "\n",
    "            # Verifica validità predizione\n",
    "            if (azione_predetta == azione_effettiva) and (variazione_bmi > 0):\n",
    "                w_match_gain += 1\n",
    "            elif (azione_predetta != azione_effettiva) and (variazione_bmi > 0):\n",
    "                w_miss_gain += 1\n",
    "            elif (azione_predetta == azione_effettiva) and (variazione_bmi <= 0):\n",
    "                w_match_loss += 1\n",
    "            elif (azione_predetta != azione_effettiva) and (variazione_bmi <= 0):\n",
    "                w_miss_loss += 1\n",
    "        \n",
    "        # Calcolo la precisione del modello\n",
    "        precisione = w_match_loss / (w_match_loss + w_miss_loss)\n",
    "\n",
    "        # Calcolo l'accuratezza del modello\n",
    "        accuratezza = (w_match_gain + w_match_loss) / (w_match_loss + w_match_gain + w_miss_loss + w_miss_gain)\n",
    "\n",
    "        return precisione, accuratezza"
   ]
  },
  {
   "cell_type": "code",
   "execution_count": 155,
   "metadata": {},
   "outputs": [],
   "source": [
    "def main():\n",
    "    file_path = '../../dataset/dataset_cbr.csv'\n",
    "    df = pd.read_csv(file_path)\n",
    "\n",
    "    # Divido il Dataset in Train e Test\n",
    "    X_train, X_test, _, y_test = train_test_split(df, df.iloc[:, -1], test_size=0.3, random_state=46)\n",
    "\n",
    "    model = CaseBasedReasoning(df)\n",
    "    model.fit(X_train)\n",
    "    y_predict = model.predict(X_test)\n",
    "\n",
    "    acc = accuracy_score(y_test, y_predict)\n",
    "    pr = precision_score(y_test, y_predict, average='weighted')\n",
    "\n",
    "    display('Accuratezza: {:.2f}'.format(acc))\n",
    "    display('Precisione: {:.2f}'.format(pr))\n",
    "    "
   ]
  },
  {
   "cell_type": "code",
   "execution_count": 156,
   "metadata": {},
   "outputs": [
    {
     "name": "stderr",
     "output_type": "stream",
     "text": [
      "c:\\Users\\57g-74a3\\anaconda3\\envs\\ML\\Lib\\site-packages\\sklearn\\metrics\\_classification.py:1344: UndefinedMetricWarning: Precision is ill-defined and being set to 0.0 in labels with no predicted samples. Use `zero_division` parameter to control this behavior.\n",
      "  _warn_prf(average, modifier, msg_start, len(result))\n"
     ]
    },
    {
     "data": {
      "text/plain": [
       "'Accuratezza: 0.30'"
      ]
     },
     "metadata": {},
     "output_type": "display_data"
    },
    {
     "data": {
      "text/plain": [
       "'Precisione: 0.19'"
      ]
     },
     "metadata": {},
     "output_type": "display_data"
    }
   ],
   "source": [
    "main()"
   ]
  }
 ],
 "metadata": {
  "kernelspec": {
   "display_name": "ML",
   "language": "python",
   "name": "python3"
  },
  "language_info": {
   "codemirror_mode": {
    "name": "ipython",
    "version": 3
   },
   "file_extension": ".py",
   "mimetype": "text/x-python",
   "name": "python",
   "nbconvert_exporter": "python",
   "pygments_lexer": "ipython3",
   "version": "3.11.3"
  }
 },
 "nbformat": 4,
 "nbformat_minor": 2
}
