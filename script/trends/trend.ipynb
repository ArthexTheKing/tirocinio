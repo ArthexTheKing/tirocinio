{
 "cells": [
  {
   "cell_type": "code",
   "execution_count": null,
   "metadata": {},
   "outputs": [],
   "source": [
    "import pandas as pd\n",
    "\n",
    "from pymannkendall import original_test"
   ]
  },
  {
   "cell_type": "code",
   "execution_count": null,
   "metadata": {},
   "outputs": [],
   "source": [
    "df = pd.read_csv('../../dataset/dataset.csv')\n",
    "utenti = pd.read_csv('../../dataset/infoutenti.csv')"
   ]
  },
  {
   "cell_type": "code",
   "execution_count": null,
   "metadata": {},
   "outputs": [],
   "source": [
    "bmi_trend = {'increasing': 0, 'decreasing': 0, 'no trend': 0}\n",
    "\n",
    "for i, utente in enumerate(utenti['utenti'].to_list()):\n",
    "\n",
    "    print(f'{i + 1}) Utente {utente}')\n",
    "\n",
    "    dataset_utente: pd.DataFrame = df['bins_bmi'].loc[df['utenti'] == utente]\n",
    "\n",
    "    if dataset_utente.empty:\n",
    "        continue\n",
    "\n",
    "    bmi = dataset_utente.to_list()\n",
    "\n",
    "    i = 0\n",
    "\n",
    "    for _ in range(13):\n",
    "\n",
    "        mese_bmi = bmi[i: i + 28]\n",
    "        mese_bmi_clear = [x for x in mese_bmi if str(x) != 'nan']\n",
    "\n",
    "        i += 29\n",
    "\n",
    "        if len(mese_bmi_clear) < 2:\n",
    "            continue\n",
    "        else:\n",
    "            trend = str(original_test(mese_bmi, alpha=0.1).trend)\n",
    "            bmi_trend[trend] += 1 "
   ]
  },
  {
   "cell_type": "code",
   "execution_count": null,
   "metadata": {},
   "outputs": [],
   "source": [
    "trends = pd.DataFrame(columns = ['increasing', 'decreasing', 'no trend'], index = [0])\n",
    "\n",
    "for col in bmi_trend.keys():\n",
    "    trends.at[0, col] = bmi_trend[col]\n",
    "\n",
    "display(trends)\n",
    "\n",
    "trends.to_csv('trends.csv')"
   ]
  },
  {
   "cell_type": "code",
   "execution_count": null,
   "metadata": {},
   "outputs": [],
   "source": [
    "def percentage(part, whole):\n",
    "  return 100 * float(part)/float(whole)"
   ]
  },
  {
   "cell_type": "code",
   "execution_count": null,
   "metadata": {},
   "outputs": [],
   "source": [
    "print('increasing: %.2f' % percentage(3227, 3227 + 7367 + 30087))\n",
    "print('decreasing: %.2f' % percentage(7367, 3227 + 7367 + 30087))\n",
    "print('no trends: %.2f' % percentage(30087, 3227 + 7367 + 30087))"
   ]
  }
 ],
 "metadata": {
  "kernelspec": {
   "display_name": "ML",
   "language": "python",
   "name": "python3"
  },
  "language_info": {
   "codemirror_mode": {
    "name": "ipython",
    "version": 3
   },
   "file_extension": ".py",
   "mimetype": "text/x-python",
   "name": "python",
   "nbconvert_exporter": "python",
   "pygments_lexer": "ipython3",
   "version": "3.11.3"
  }
 },
 "nbformat": 4,
 "nbformat_minor": 2
}
