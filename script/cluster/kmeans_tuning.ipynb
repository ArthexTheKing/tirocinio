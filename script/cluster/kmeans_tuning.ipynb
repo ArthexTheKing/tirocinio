{
 "cells": [
  {
   "cell_type": "code",
   "execution_count": null,
   "metadata": {},
   "outputs": [],
   "source": [
    "import numpy as np\n",
    "import pandas as pd\n",
    "import matplotlib.pyplot as plt\n",
    "\n",
    "from sklearn.cluster import KMeans\n",
    "from sklearn.metrics import silhouette_score"
   ]
  },
  {
   "cell_type": "code",
   "execution_count": null,
   "metadata": {},
   "outputs": [],
   "source": [
    "# Generiamo dei dati casuali\n",
    "X = pd.read_csv('../../dataset/dataset_kmeans.csv').sample(25000)\n",
    "X.drop(X.columns[0], axis=1, inplace=True)\n",
    "\n",
    "# Definisci il range di valori di K da valutare\n",
    "k_values = range(3, 11)\n",
    "\n",
    "# Lista per memorizzare il Silhouette Score medio per ogni valore di K\n",
    "avg_silhouette_scores = []\n",
    "\n",
    "# Calcola il Silhouette Score medio per ogni valore di K\n",
    "for k in k_values:\n",
    "    print(f'Silhouette Score per K = {str(k)}')\n",
    "    kmeans = KMeans(n_clusters=k, n_init='auto', random_state=46)\n",
    "    cluster_labels = kmeans.fit_predict(X)\n",
    "    silhouette_avg = silhouette_score(X, cluster_labels)\n",
    "    avg_silhouette_scores.append(silhouette_avg)\n",
    "\n",
    "# Traccia il grafico del Silhouette Score medio rispetto a K\n",
    "plt.plot(k_values, avg_silhouette_scores, marker='o')\n",
    "plt.title('Silhouette Score')\n",
    "plt.xlabel('Number of clusters (K)')\n",
    "plt.ylabel('Average Silhouette Score')\n",
    "plt.xticks(k_values)\n",
    "plt.grid(True)\n",
    "plt.show()\n",
    "\n",
    "# Trova il valore di K che massimizza il Silhouette Score\n",
    "best_k = k_values[np.argmax(avg_silhouette_scores)]\n",
    "print(\"Best value of K according to Silhouette Score:\", best_k)"
   ]
  }
 ],
 "metadata": {
  "kernelspec": {
   "display_name": "ML",
   "language": "python",
   "name": "python3"
  },
  "language_info": {
   "codemirror_mode": {
    "name": "ipython",
    "version": 3
   },
   "file_extension": ".py",
   "mimetype": "text/x-python",
   "name": "python",
   "nbconvert_exporter": "python",
   "pygments_lexer": "ipython3",
   "version": "3.11.3"
  }
 },
 "nbformat": 4,
 "nbformat_minor": 2
}
