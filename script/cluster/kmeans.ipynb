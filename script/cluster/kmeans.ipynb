{
 "cells": [
  {
   "cell_type": "code",
   "execution_count": null,
   "metadata": {},
   "outputs": [],
   "source": [
    "import pandas as pd\n",
    "import matplotlib.pyplot as plt\n",
    "\n",
    "from sklearn.cluster import KMeans"
   ]
  },
  {
   "cell_type": "code",
   "execution_count": null,
   "metadata": {},
   "outputs": [],
   "source": [
    "df = pd.read_csv('../../dataset/dataset_kmeans.csv')\n",
    "df.drop(df.columns[[0]], axis=1, inplace=True) # Serve perche crea una colonna a caso\n",
    "X = df"
   ]
  },
  {
   "cell_type": "code",
   "execution_count": null,
   "metadata": {},
   "outputs": [],
   "source": [
    "X.index.size"
   ]
  },
  {
   "cell_type": "code",
   "execution_count": null,
   "metadata": {},
   "outputs": [],
   "source": [
    "model = KMeans(n_clusters=6, n_init='auto', random_state=46).fit(X)\n",
    "centri = model.cluster_centers_"
   ]
  },
  {
   "cell_type": "code",
   "execution_count": null,
   "metadata": {},
   "outputs": [],
   "source": [
    "titolo_x = 'Giorni della Settimana'\n",
    "titolo_y = 'Z-score'\n",
    "ticks = [0, 1, 2, 3, 4, 5, 6]\n",
    "days = ['Venerdì', 'Sabato', 'Domenica', 'Lunedì', 'Martedì', 'Mercoledì', 'Giovedì']\n",
    "\n",
    "plt.xlabel(titolo_x)\n",
    "plt.ylabel(titolo_y)\n",
    "plt.xticks(ticks, days)\n",
    "plt.ylim(bottom = -1, top = 2)\n",
    "\n",
    "plt.plot(ticks, centri[0], label = 'c1')\n",
    "plt.plot(ticks, centri[1], label = 'c2')\n",
    "plt.plot(ticks, centri[2], label = 'c3')\n",
    "plt.plot(ticks, centri[3], label = 'c4')\n",
    "plt.plot(ticks, centri[4], label = 'c5')\n",
    "plt.plot(ticks, centri[5], label = 'c6')\n",
    "\n",
    "plt.legend()"
   ]
  }
 ],
 "metadata": {
  "kernelspec": {
   "display_name": "ML",
   "language": "python",
   "name": "python3"
  },
  "language_info": {
   "codemirror_mode": {
    "name": "ipython",
    "version": 3
   },
   "file_extension": ".py",
   "mimetype": "text/x-python",
   "name": "python",
   "nbconvert_exporter": "python",
   "pygments_lexer": "ipython3",
   "version": "3.11.3"
  }
 },
 "nbformat": 4,
 "nbformat_minor": 2
}
